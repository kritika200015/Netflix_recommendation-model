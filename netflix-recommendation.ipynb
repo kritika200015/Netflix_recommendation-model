{
 "cells": [
  {
   "cell_type": "markdown",
   "metadata": {
    "papermill": {
     "duration": 0.029359,
     "end_time": "2021-03-15T18:46:48.715430",
     "exception": false,
     "start_time": "2021-03-15T18:46:48.686071",
     "status": "completed"
    },
    "tags": []
   },
   "source": [
    "# Content Based Recommendation System\n"
   ]
  },
  {
   "cell_type": "markdown",
   "metadata": {
    "papermill": {
     "duration": 0.027549,
     "end_time": "2021-03-15T18:46:48.771198",
     "exception": false,
     "start_time": "2021-03-15T18:46:48.743649",
     "status": "completed"
    },
    "tags": []
   },
   "source": [
    "So, I am going to use TF-IDF  technique to make two different recommendation models with sigmoid kernel fucntion and one with linear cosine similarity and let's see which one is better.\n",
    "****"
   ]
  },
  {
   "cell_type": "code",
   "execution_count": 1,
   "metadata": {
    "_cell_guid": "b1076dfc-b9ad-4769-8c92-a6c4dae69d19",
    "_uuid": "8f2839f25d086af736a60e9eeb907d3b93b6e0e5",
    "execution": {
     "iopub.execute_input": "2021-03-15T18:46:48.832629Z",
     "iopub.status.busy": "2021-03-15T18:46:48.831896Z",
     "iopub.status.idle": "2021-03-15T18:46:48.848162Z",
     "shell.execute_reply": "2021-03-15T18:46:48.848898Z"
    },
    "papermill": {
     "duration": 0.048145,
     "end_time": "2021-03-15T18:46:48.849337",
     "exception": false,
     "start_time": "2021-03-15T18:46:48.801192",
     "status": "completed"
    },
    "tags": []
   },
   "outputs": [
    {
     "name": "stdout",
     "output_type": "stream",
     "text": [
      "/kaggle/input/netflix-shows/netflix_titles.csv\n"
     ]
    }
   ],
   "source": [
    "# This Python 3 environment comes with many helpful analytics libraries installed\n",
    "# It is defined by the kaggle/python Docker image: https://github.com/kaggle/docker-python\n",
    "# For example, here's several helpful packages to load\n",
    "\n",
    "import numpy as np # linear algebra\n",
    "import pandas as pd # data processing, CSV file I/O (e.g. pd.read_csv)\n",
    "\n",
    "# Input data files are available in the read-only \"../input/\" directory\n",
    "# For example, running this (by clicking run or pressing Shift+Enter) will list all files under the input directory\n",
    "\n",
    "import os\n",
    "for dirname, _, filenames in os.walk('/kaggle/input'):\n",
    "    for filename in filenames:\n",
    "        print(os.path.join(dirname, filename))\n",
    "\n",
    "# You can write up to 20GB to the current directory (/kaggle/working/) that gets preserved as output when you create a version using \"Save & Run All\" \n",
    "# You can also write temporary files to /kaggle/temp/, but they won't be saved outside of the current session"
   ]
  },
  {
   "cell_type": "code",
   "execution_count": 2,
   "metadata": {
    "execution": {
     "iopub.execute_input": "2021-03-15T18:46:48.913089Z",
     "iopub.status.busy": "2021-03-15T18:46:48.912347Z",
     "iopub.status.idle": "2021-03-15T18:46:49.102759Z",
     "shell.execute_reply": "2021-03-15T18:46:49.102211Z"
    },
    "papermill": {
     "duration": 0.223938,
     "end_time": "2021-03-15T18:46:49.102906",
     "exception": false,
     "start_time": "2021-03-15T18:46:48.878968",
     "status": "completed"
    },
    "tags": []
   },
   "outputs": [
    {
     "name": "stdout",
     "output_type": "stream",
     "text": [
      "(7787, 12)\n"
     ]
    },
    {
     "data": {
      "text/html": [
       "<div>\n",
       "<style scoped>\n",
       "    .dataframe tbody tr th:only-of-type {\n",
       "        vertical-align: middle;\n",
       "    }\n",
       "\n",
       "    .dataframe tbody tr th {\n",
       "        vertical-align: top;\n",
       "    }\n",
       "\n",
       "    .dataframe thead th {\n",
       "        text-align: right;\n",
       "    }\n",
       "</style>\n",
       "<table border=\"1\" class=\"dataframe\">\n",
       "  <thead>\n",
       "    <tr style=\"text-align: right;\">\n",
       "      <th></th>\n",
       "      <th>show_id</th>\n",
       "      <th>type</th>\n",
       "      <th>title</th>\n",
       "      <th>director</th>\n",
       "      <th>cast</th>\n",
       "      <th>country</th>\n",
       "      <th>date_added</th>\n",
       "      <th>release_year</th>\n",
       "      <th>rating</th>\n",
       "      <th>duration</th>\n",
       "      <th>listed_in</th>\n",
       "      <th>description</th>\n",
       "    </tr>\n",
       "  </thead>\n",
       "  <tbody>\n",
       "    <tr>\n",
       "      <th>0</th>\n",
       "      <td>s1</td>\n",
       "      <td>TV Show</td>\n",
       "      <td>3%</td>\n",
       "      <td>NaN</td>\n",
       "      <td>João Miguel, Bianca Comparato, Michel Gomes, R...</td>\n",
       "      <td>Brazil</td>\n",
       "      <td>August 14, 2020</td>\n",
       "      <td>2020</td>\n",
       "      <td>TV-MA</td>\n",
       "      <td>4 Seasons</td>\n",
       "      <td>International TV Shows, TV Dramas, TV Sci-Fi &amp;...</td>\n",
       "      <td>In a future where the elite inhabit an island ...</td>\n",
       "    </tr>\n",
       "    <tr>\n",
       "      <th>1</th>\n",
       "      <td>s2</td>\n",
       "      <td>Movie</td>\n",
       "      <td>7:19</td>\n",
       "      <td>Jorge Michel Grau</td>\n",
       "      <td>Demián Bichir, Héctor Bonilla, Oscar Serrano, ...</td>\n",
       "      <td>Mexico</td>\n",
       "      <td>December 23, 2016</td>\n",
       "      <td>2016</td>\n",
       "      <td>TV-MA</td>\n",
       "      <td>93 min</td>\n",
       "      <td>Dramas, International Movies</td>\n",
       "      <td>After a devastating earthquake hits Mexico Cit...</td>\n",
       "    </tr>\n",
       "    <tr>\n",
       "      <th>2</th>\n",
       "      <td>s3</td>\n",
       "      <td>Movie</td>\n",
       "      <td>23:59</td>\n",
       "      <td>Gilbert Chan</td>\n",
       "      <td>Tedd Chan, Stella Chung, Henley Hii, Lawrence ...</td>\n",
       "      <td>Singapore</td>\n",
       "      <td>December 20, 2018</td>\n",
       "      <td>2011</td>\n",
       "      <td>R</td>\n",
       "      <td>78 min</td>\n",
       "      <td>Horror Movies, International Movies</td>\n",
       "      <td>When an army recruit is found dead, his fellow...</td>\n",
       "    </tr>\n",
       "    <tr>\n",
       "      <th>3</th>\n",
       "      <td>s4</td>\n",
       "      <td>Movie</td>\n",
       "      <td>9</td>\n",
       "      <td>Shane Acker</td>\n",
       "      <td>Elijah Wood, John C. Reilly, Jennifer Connelly...</td>\n",
       "      <td>United States</td>\n",
       "      <td>November 16, 2017</td>\n",
       "      <td>2009</td>\n",
       "      <td>PG-13</td>\n",
       "      <td>80 min</td>\n",
       "      <td>Action &amp; Adventure, Independent Movies, Sci-Fi...</td>\n",
       "      <td>In a postapocalyptic world, rag-doll robots hi...</td>\n",
       "    </tr>\n",
       "    <tr>\n",
       "      <th>4</th>\n",
       "      <td>s5</td>\n",
       "      <td>Movie</td>\n",
       "      <td>21</td>\n",
       "      <td>Robert Luketic</td>\n",
       "      <td>Jim Sturgess, Kevin Spacey, Kate Bosworth, Aar...</td>\n",
       "      <td>United States</td>\n",
       "      <td>January 1, 2020</td>\n",
       "      <td>2008</td>\n",
       "      <td>PG-13</td>\n",
       "      <td>123 min</td>\n",
       "      <td>Dramas</td>\n",
       "      <td>A brilliant group of students become card-coun...</td>\n",
       "    </tr>\n",
       "  </tbody>\n",
       "</table>\n",
       "</div>"
      ],
      "text/plain": [
       "  show_id     type  title           director  \\\n",
       "0      s1  TV Show     3%                NaN   \n",
       "1      s2    Movie   7:19  Jorge Michel Grau   \n",
       "2      s3    Movie  23:59       Gilbert Chan   \n",
       "3      s4    Movie      9        Shane Acker   \n",
       "4      s5    Movie     21     Robert Luketic   \n",
       "\n",
       "                                                cast        country  \\\n",
       "0  João Miguel, Bianca Comparato, Michel Gomes, R...         Brazil   \n",
       "1  Demián Bichir, Héctor Bonilla, Oscar Serrano, ...         Mexico   \n",
       "2  Tedd Chan, Stella Chung, Henley Hii, Lawrence ...      Singapore   \n",
       "3  Elijah Wood, John C. Reilly, Jennifer Connelly...  United States   \n",
       "4  Jim Sturgess, Kevin Spacey, Kate Bosworth, Aar...  United States   \n",
       "\n",
       "          date_added  release_year rating   duration  \\\n",
       "0    August 14, 2020          2020  TV-MA  4 Seasons   \n",
       "1  December 23, 2016          2016  TV-MA     93 min   \n",
       "2  December 20, 2018          2011      R     78 min   \n",
       "3  November 16, 2017          2009  PG-13     80 min   \n",
       "4    January 1, 2020          2008  PG-13    123 min   \n",
       "\n",
       "                                           listed_in  \\\n",
       "0  International TV Shows, TV Dramas, TV Sci-Fi &...   \n",
       "1                       Dramas, International Movies   \n",
       "2                Horror Movies, International Movies   \n",
       "3  Action & Adventure, Independent Movies, Sci-Fi...   \n",
       "4                                             Dramas   \n",
       "\n",
       "                                         description  \n",
       "0  In a future where the elite inhabit an island ...  \n",
       "1  After a devastating earthquake hits Mexico Cit...  \n",
       "2  When an army recruit is found dead, his fellow...  \n",
       "3  In a postapocalyptic world, rag-doll robots hi...  \n",
       "4  A brilliant group of students become card-coun...  "
      ]
     },
     "execution_count": 2,
     "metadata": {},
     "output_type": "execute_result"
    }
   ],
   "source": [
    "data = pd.read_csv(\"/kaggle/input/netflix-shows/netflix_titles.csv\")\n",
    "print (data.shape)\n",
    "data.head(5)"
   ]
  },
  {
   "cell_type": "code",
   "execution_count": 3,
   "metadata": {
    "execution": {
     "iopub.execute_input": "2021-03-15T18:46:49.178117Z",
     "iopub.status.busy": "2021-03-15T18:46:49.177410Z",
     "iopub.status.idle": "2021-03-15T18:46:49.191967Z",
     "shell.execute_reply": "2021-03-15T18:46:49.192478Z"
    },
    "papermill": {
     "duration": 0.060153,
     "end_time": "2021-03-15T18:46:49.192683",
     "exception": false,
     "start_time": "2021-03-15T18:46:49.132530",
     "status": "completed"
    },
    "tags": []
   },
   "outputs": [
    {
     "name": "stdout",
     "output_type": "stream",
     "text": [
      "<class 'pandas.core.frame.DataFrame'>\n",
      "RangeIndex: 7787 entries, 0 to 7786\n",
      "Data columns (total 12 columns):\n",
      " #   Column        Non-Null Count  Dtype \n",
      "---  ------        --------------  ----- \n",
      " 0   show_id       7787 non-null   object\n",
      " 1   type          7787 non-null   object\n",
      " 2   title         7787 non-null   object\n",
      " 3   director      5398 non-null   object\n",
      " 4   cast          7069 non-null   object\n",
      " 5   country       7280 non-null   object\n",
      " 6   date_added    7777 non-null   object\n",
      " 7   release_year  7787 non-null   int64 \n",
      " 8   rating        7780 non-null   object\n",
      " 9   duration      7787 non-null   object\n",
      " 10  listed_in     7787 non-null   object\n",
      " 11  description   7787 non-null   object\n",
      "dtypes: int64(1), object(11)\n",
      "memory usage: 730.2+ KB\n"
     ]
    }
   ],
   "source": [
    "data.info()"
   ]
  },
  {
   "cell_type": "markdown",
   "metadata": {
    "papermill": {
     "duration": 0.031563,
     "end_time": "2021-03-15T18:46:49.254525",
     "exception": false,
     "start_time": "2021-03-15T18:46:49.222962",
     "status": "completed"
    },
    "tags": []
   },
   "source": [
    "**1. Content based recommendation system using sigmoid kernel to find the similarities**"
   ]
  },
  {
   "cell_type": "markdown",
   "metadata": {
    "papermill": {
     "duration": 0.030375,
     "end_time": "2021-03-15T18:46:49.315418",
     "exception": false,
     "start_time": "2021-03-15T18:46:49.285043",
     "status": "completed"
    },
    "tags": []
   },
   "source": [
    "****I am dividing 2 different sets one for movie recommendations and one for TV/Shows. Also I am using a combined function to compute the similarity****"
   ]
  },
  {
   "cell_type": "markdown",
   "metadata": {
    "papermill": {
     "duration": 0.030565,
     "end_time": "2021-03-15T18:46:49.377571",
     "exception": false,
     "start_time": "2021-03-15T18:46:49.347006",
     "status": "completed"
    },
    "tags": []
   },
   "source": [
    "# Movie set* ****"
   ]
  },
  {
   "cell_type": "code",
   "execution_count": 4,
   "metadata": {
    "execution": {
     "iopub.execute_input": "2021-03-15T18:46:49.448408Z",
     "iopub.status.busy": "2021-03-15T18:46:49.447342Z",
     "iopub.status.idle": "2021-03-15T18:46:49.457040Z",
     "shell.execute_reply": "2021-03-15T18:46:49.456452Z"
    },
    "papermill": {
     "duration": 0.047932,
     "end_time": "2021-03-15T18:46:49.457187",
     "exception": false,
     "start_time": "2021-03-15T18:46:49.409255",
     "status": "completed"
    },
    "tags": []
   },
   "outputs": [],
   "source": [
    "movies = data[data['type']=='Movie'].reset_index()\n",
    "movies = movies.drop(columns = ['duration','country','date_added','release_year','show_id','type','index','listed_in'])"
   ]
  },
  {
   "cell_type": "code",
   "execution_count": 5,
   "metadata": {
    "execution": {
     "iopub.execute_input": "2021-03-15T18:46:49.527592Z",
     "iopub.status.busy": "2021-03-15T18:46:49.524846Z",
     "iopub.status.idle": "2021-03-15T18:46:49.561441Z",
     "shell.execute_reply": "2021-03-15T18:46:49.562048Z"
    },
    "papermill": {
     "duration": 0.074826,
     "end_time": "2021-03-15T18:46:49.562241",
     "exception": false,
     "start_time": "2021-03-15T18:46:49.487415",
     "status": "completed"
    },
    "tags": []
   },
   "outputs": [
    {
     "data": {
      "text/html": [
       "<div>\n",
       "<style scoped>\n",
       "    .dataframe tbody tr th:only-of-type {\n",
       "        vertical-align: middle;\n",
       "    }\n",
       "\n",
       "    .dataframe tbody tr th {\n",
       "        vertical-align: top;\n",
       "    }\n",
       "\n",
       "    .dataframe thead th {\n",
       "        text-align: right;\n",
       "    }\n",
       "</style>\n",
       "<table border=\"1\" class=\"dataframe\">\n",
       "  <thead>\n",
       "    <tr style=\"text-align: right;\">\n",
       "      <th></th>\n",
       "      <th>title</th>\n",
       "      <th>director</th>\n",
       "      <th>cast</th>\n",
       "      <th>rating</th>\n",
       "      <th>description</th>\n",
       "      <th>combined</th>\n",
       "    </tr>\n",
       "  </thead>\n",
       "  <tbody>\n",
       "    <tr>\n",
       "      <th>0</th>\n",
       "      <td>7:19</td>\n",
       "      <td>Jorge Michel Grau</td>\n",
       "      <td>Demián Bichir, Héctor Bonilla, Oscar Serrano, ...</td>\n",
       "      <td>TV-MA</td>\n",
       "      <td>After a devastating earthquake hits Mexico Cit...</td>\n",
       "      <td>After a devastating earthquake hits Mexico Cit...</td>\n",
       "    </tr>\n",
       "    <tr>\n",
       "      <th>1</th>\n",
       "      <td>23:59</td>\n",
       "      <td>Gilbert Chan</td>\n",
       "      <td>Tedd Chan, Stella Chung, Henley Hii, Lawrence ...</td>\n",
       "      <td>R</td>\n",
       "      <td>When an army recruit is found dead, his fellow...</td>\n",
       "      <td>When an army recruit is found dead, his fellow...</td>\n",
       "    </tr>\n",
       "    <tr>\n",
       "      <th>2</th>\n",
       "      <td>9</td>\n",
       "      <td>Shane Acker</td>\n",
       "      <td>Elijah Wood, John C. Reilly, Jennifer Connelly...</td>\n",
       "      <td>PG-13</td>\n",
       "      <td>In a postapocalyptic world, rag-doll robots hi...</td>\n",
       "      <td>In a postapocalyptic world, rag-doll robots hi...</td>\n",
       "    </tr>\n",
       "    <tr>\n",
       "      <th>3</th>\n",
       "      <td>21</td>\n",
       "      <td>Robert Luketic</td>\n",
       "      <td>Jim Sturgess, Kevin Spacey, Kate Bosworth, Aar...</td>\n",
       "      <td>PG-13</td>\n",
       "      <td>A brilliant group of students become card-coun...</td>\n",
       "      <td>A brilliant group of students become card-coun...</td>\n",
       "    </tr>\n",
       "    <tr>\n",
       "      <th>4</th>\n",
       "      <td>122</td>\n",
       "      <td>Yasir Al Yasiri</td>\n",
       "      <td>Amina Khalil, Ahmed Dawood, Tarek Lotfy, Ahmed...</td>\n",
       "      <td>TV-MA</td>\n",
       "      <td>After an awful accident, a couple admitted to ...</td>\n",
       "      <td>After an awful accident, a couple admitted to ...</td>\n",
       "    </tr>\n",
       "  </tbody>\n",
       "</table>\n",
       "</div>"
      ],
      "text/plain": [
       "   title           director  \\\n",
       "0   7:19  Jorge Michel Grau   \n",
       "1  23:59       Gilbert Chan   \n",
       "2      9        Shane Acker   \n",
       "3     21     Robert Luketic   \n",
       "4    122    Yasir Al Yasiri   \n",
       "\n",
       "                                                cast rating  \\\n",
       "0  Demián Bichir, Héctor Bonilla, Oscar Serrano, ...  TV-MA   \n",
       "1  Tedd Chan, Stella Chung, Henley Hii, Lawrence ...      R   \n",
       "2  Elijah Wood, John C. Reilly, Jennifer Connelly...  PG-13   \n",
       "3  Jim Sturgess, Kevin Spacey, Kate Bosworth, Aar...  PG-13   \n",
       "4  Amina Khalil, Ahmed Dawood, Tarek Lotfy, Ahmed...  TV-MA   \n",
       "\n",
       "                                         description  \\\n",
       "0  After a devastating earthquake hits Mexico Cit...   \n",
       "1  When an army recruit is found dead, his fellow...   \n",
       "2  In a postapocalyptic world, rag-doll robots hi...   \n",
       "3  A brilliant group of students become card-coun...   \n",
       "4  After an awful accident, a couple admitted to ...   \n",
       "\n",
       "                                            combined  \n",
       "0  After a devastating earthquake hits Mexico Cit...  \n",
       "1  When an army recruit is found dead, his fellow...  \n",
       "2  In a postapocalyptic world, rag-doll robots hi...  \n",
       "3  A brilliant group of students become card-coun...  \n",
       "4  After an awful accident, a couple admitted to ...  "
      ]
     },
     "execution_count": 5,
     "metadata": {},
     "output_type": "execute_result"
    }
   ],
   "source": [
    "movies['director'] = movies['director'].fillna(\"\")\n",
    "movies['cast'] = movies['cast'].fillna(\"\")\n",
    "movies['combined'] = movies['description']+movies['cast']+movies['director']\n",
    "movies.head(5)"
   ]
  },
  {
   "cell_type": "code",
   "execution_count": 6,
   "metadata": {
    "execution": {
     "iopub.execute_input": "2021-03-15T18:46:49.628639Z",
     "iopub.status.busy": "2021-03-15T18:46:49.627874Z",
     "iopub.status.idle": "2021-03-15T18:46:50.679531Z",
     "shell.execute_reply": "2021-03-15T18:46:50.678885Z"
    },
    "papermill": {
     "duration": 1.085801,
     "end_time": "2021-03-15T18:46:50.679694",
     "exception": false,
     "start_time": "2021-03-15T18:46:49.593893",
     "status": "completed"
    },
    "tags": []
   },
   "outputs": [],
   "source": [
    "from sklearn.feature_extraction.text import TfidfVectorizer\n",
    "tfv = TfidfVectorizer(min_df = 3,max_features = None,analyzer = 'word',token_pattern = 'r\\w{1,}', ngram_range = (1,3), stop_words = 'english')"
   ]
  },
  {
   "cell_type": "code",
   "execution_count": 7,
   "metadata": {
    "execution": {
     "iopub.execute_input": "2021-03-15T18:46:50.749341Z",
     "iopub.status.busy": "2021-03-15T18:46:50.748661Z",
     "iopub.status.idle": "2021-03-15T18:46:50.751999Z",
     "shell.execute_reply": "2021-03-15T18:46:50.752589Z"
    },
    "papermill": {
     "duration": 0.041773,
     "end_time": "2021-03-15T18:46:50.752786",
     "exception": false,
     "start_time": "2021-03-15T18:46:50.711013",
     "status": "completed"
    },
    "tags": []
   },
   "outputs": [],
   "source": [
    "movies['combined'] = movies['combined'].fillna(\"\")"
   ]
  },
  {
   "cell_type": "code",
   "execution_count": 8,
   "metadata": {
    "execution": {
     "iopub.execute_input": "2021-03-15T18:46:50.822385Z",
     "iopub.status.busy": "2021-03-15T18:46:50.821651Z",
     "iopub.status.idle": "2021-03-15T18:46:52.632328Z",
     "shell.execute_reply": "2021-03-15T18:46:52.631600Z"
    },
    "papermill": {
     "duration": 1.848379,
     "end_time": "2021-03-15T18:46:52.632507",
     "exception": false,
     "start_time": "2021-03-15T18:46:50.784128",
     "status": "completed"
    },
    "tags": []
   },
   "outputs": [
    {
     "name": "stderr",
     "output_type": "stream",
     "text": [
      "/opt/conda/lib/python3.7/site-packages/sklearn/feature_extraction/text.py:391: UserWarning: Your stop_words may be inconsistent with your preprocessing. Tokenizing the stop words generated tokens ['ral', 'rd', 'rds', 'ready', 'reafter', 'reas', 'reby', 'red', 'ree', 'refore', 'rehand', 'rein', 'reover', 'rest', 'reupon', 'rever', 'rhaps', 'ribe', 'ring', 'rious', 'rly', 'rmer', 'rmerly', 'rom', 'ront', 'ross', 'rough', 'roughout', 'round', 'rs', 'rself', 'rselves', 'rst', 'rt', 'rtheless', 'rther', 'rty', 'ru', 'rwards', 'rwise', 'ry', 'ryone', 'rything', 'rywhere'] not in stop_words.\n",
      "  'stop_words.' % sorted(inconsistent))\n"
     ]
    },
    {
     "data": {
      "text/plain": [
       "title\n",
       "7:19                                          0\n",
       "23:59                                         1\n",
       "9                                             2\n",
       "21                                            3\n",
       "122                                           4\n",
       "                                           ... \n",
       "Zoom                                       5372\n",
       "Zozo                                       5373\n",
       "Zubaan                                     5374\n",
       "Zulu Man in Japan                          5375\n",
       "ZZ TOP: THAT LITTLE OL' BAND FROM TEXAS    5376\n",
       "Length: 5377, dtype: int64"
      ]
     },
     "execution_count": 8,
     "metadata": {},
     "output_type": "execute_result"
    }
   ],
   "source": [
    "tfv_matrix = tfv.fit_transform(movies['combined'])\n",
    "from sklearn.metrics.pairwise import sigmoid_kernel\n",
    "sig = sigmoid_kernel(tfv_matrix,tfv_matrix)\n",
    "sig[0]\n",
    "indices = pd.Series(movies.index,index = movies['title']).drop_duplicates()\n",
    "indices"
   ]
  },
  {
   "cell_type": "code",
   "execution_count": 9,
   "metadata": {
    "execution": {
     "iopub.execute_input": "2021-03-15T18:46:52.700594Z",
     "iopub.status.busy": "2021-03-15T18:46:52.699931Z",
     "iopub.status.idle": "2021-03-15T18:46:52.707005Z",
     "shell.execute_reply": "2021-03-15T18:46:52.706466Z"
    },
    "papermill": {
     "duration": 0.042516,
     "end_time": "2021-03-15T18:46:52.707149",
     "exception": false,
     "start_time": "2021-03-15T18:46:52.664633",
     "status": "completed"
    },
    "tags": []
   },
   "outputs": [],
   "source": [
    "def recommend(title,sig=sig):\n",
    "    idx = indices[title]\n",
    "    sig_scores = list(enumerate(sig[idx]))\n",
    "    sig_scores = sorted(sig_scores,key = lambda x:x[1], reverse = True)\n",
    "    sig_scores = sig_scores[1:11]\n",
    "    movies_indices = [i[0] for i in sig_scores]\n",
    "    return movies['title'].iloc[movies_indices]"
   ]
  },
  {
   "cell_type": "code",
   "execution_count": 10,
   "metadata": {
    "execution": {
     "iopub.execute_input": "2021-03-15T18:46:52.784765Z",
     "iopub.status.busy": "2021-03-15T18:46:52.783834Z",
     "iopub.status.idle": "2021-03-15T18:46:52.788685Z",
     "shell.execute_reply": "2021-03-15T18:46:52.788165Z"
    },
    "papermill": {
     "duration": 0.048998,
     "end_time": "2021-03-15T18:46:52.788832",
     "exception": false,
     "start_time": "2021-03-15T18:46:52.739834",
     "status": "completed"
    },
    "tags": []
   },
   "outputs": [
    {
     "data": {
      "text/plain": [
       "2349                Kevin Hart: Seriously Funny\n",
       "5230                What Would Sophia Loren Do?\n",
       "376                       An American in Madras\n",
       "1598                               French Toast\n",
       "3573                               Reincarnated\n",
       "4264                            The Bittersweet\n",
       "2257            Joshua: Teenager vs. Superpower\n",
       "965      Chingo Bling: They Can't Deport Us All\n",
       "4214    The Adventures of Sharkboy and Lavagirl\n",
       "4773                       The Skin of the Wolf\n",
       "Name: title, dtype: object"
      ]
     },
     "execution_count": 10,
     "metadata": {},
     "output_type": "execute_result"
    }
   ],
   "source": [
    "recommend('Zulu Man in Japan')"
   ]
  },
  {
   "cell_type": "code",
   "execution_count": 11,
   "metadata": {
    "execution": {
     "iopub.execute_input": "2021-03-15T18:46:52.859038Z",
     "iopub.status.busy": "2021-03-15T18:46:52.858358Z",
     "iopub.status.idle": "2021-03-15T18:46:52.870942Z",
     "shell.execute_reply": "2021-03-15T18:46:52.870107Z"
    },
    "papermill": {
     "duration": 0.048708,
     "end_time": "2021-03-15T18:46:52.871105",
     "exception": false,
     "start_time": "2021-03-15T18:46:52.822397",
     "status": "completed"
    },
    "tags": []
   },
   "outputs": [
    {
     "data": {
      "text/plain": [
       "4311                        The Cakemaker\n",
       "3917              Silent Hill: Revelation\n",
       "2239                          John & Jane\n",
       "1777                               Guilty\n",
       "587                           Be Somebody\n",
       "4252    The Battered Bastards of Baseball\n",
       "1566                            Forgotten\n",
       "1234          Dieter Nuhr: Nuhr in Berlin\n",
       "731                        Bleed for This\n",
       "3730           Sam Kinison: Live in Vegas\n",
       "Name: title, dtype: object"
      ]
     },
     "execution_count": 11,
     "metadata": {},
     "output_type": "execute_result"
    }
   ],
   "source": [
    "recommend('Zubaan')"
   ]
  },
  {
   "cell_type": "code",
   "execution_count": 12,
   "metadata": {
    "execution": {
     "iopub.execute_input": "2021-03-15T18:46:52.942876Z",
     "iopub.status.busy": "2021-03-15T18:46:52.942121Z",
     "iopub.status.idle": "2021-03-15T18:46:52.955011Z",
     "shell.execute_reply": "2021-03-15T18:46:52.954349Z"
    },
    "papermill": {
     "duration": 0.050297,
     "end_time": "2021-03-15T18:46:52.955158",
     "exception": false,
     "start_time": "2021-03-15T18:46:52.904861",
     "status": "completed"
    },
    "tags": []
   },
   "outputs": [
    {
     "data": {
      "text/plain": [
       "5374                             Zubaan\n",
       "3917            Silent Hill: Revelation\n",
       "1456                           Extremis\n",
       "3016              My Life as a Zucchini\n",
       "3724                            Saladin\n",
       "2835             Michael Lost and Found\n",
       "1408                              Enemy\n",
       "3755    Sarah Silverman A Speck of Dust\n",
       "5076                     Under The Skin\n",
       "2704                             Maktub\n",
       "Name: title, dtype: object"
      ]
     },
     "execution_count": 12,
     "metadata": {},
     "output_type": "execute_result"
    }
   ],
   "source": [
    "recommend('The Cakemaker')"
   ]
  },
  {
   "cell_type": "markdown",
   "metadata": {
    "papermill": {
     "duration": 0.034425,
     "end_time": "2021-03-15T18:46:53.023524",
     "exception": false,
     "start_time": "2021-03-15T18:46:52.989099",
     "status": "completed"
    },
    "tags": []
   },
   "source": [
    "# TV Shows set"
   ]
  },
  {
   "cell_type": "code",
   "execution_count": 13,
   "metadata": {
    "execution": {
     "iopub.execute_input": "2021-03-15T18:46:53.100486Z",
     "iopub.status.busy": "2021-03-15T18:46:53.099798Z",
     "iopub.status.idle": "2021-03-15T18:46:53.107920Z",
     "shell.execute_reply": "2021-03-15T18:46:53.107231Z"
    },
    "papermill": {
     "duration": 0.050908,
     "end_time": "2021-03-15T18:46:53.108076",
     "exception": false,
     "start_time": "2021-03-15T18:46:53.057168",
     "status": "completed"
    },
    "tags": []
   },
   "outputs": [],
   "source": [
    "shows = data[data['type']=='TV Show'].reset_index()\n",
    "shows = shows.drop(columns = ['duration','country','date_added','release_year','show_id','type','index','listed_in'])"
   ]
  },
  {
   "cell_type": "code",
   "execution_count": 14,
   "metadata": {
    "execution": {
     "iopub.execute_input": "2021-03-15T18:46:53.187918Z",
     "iopub.status.busy": "2021-03-15T18:46:53.186834Z",
     "iopub.status.idle": "2021-03-15T18:46:53.190428Z",
     "shell.execute_reply": "2021-03-15T18:46:53.189899Z"
    },
    "papermill": {
     "duration": 0.048113,
     "end_time": "2021-03-15T18:46:53.190596",
     "exception": false,
     "start_time": "2021-03-15T18:46:53.142483",
     "status": "completed"
    },
    "tags": []
   },
   "outputs": [],
   "source": [
    "shows['director'] = shows['director'].fillna(\"\")\n",
    "shows['cast'] = shows['cast'].fillna(\"\")\n",
    "shows['combined'] = shows['cast']+shows['director']+shows['description']"
   ]
  },
  {
   "cell_type": "code",
   "execution_count": 15,
   "metadata": {
    "execution": {
     "iopub.execute_input": "2021-03-15T18:46:53.272441Z",
     "iopub.status.busy": "2021-03-15T18:46:53.271755Z",
     "iopub.status.idle": "2021-03-15T18:46:53.277442Z",
     "shell.execute_reply": "2021-03-15T18:46:53.276935Z"
    },
    "papermill": {
     "duration": 0.053198,
     "end_time": "2021-03-15T18:46:53.277607",
     "exception": false,
     "start_time": "2021-03-15T18:46:53.224409",
     "status": "completed"
    },
    "tags": []
   },
   "outputs": [
    {
     "data": {
      "text/html": [
       "<div>\n",
       "<style scoped>\n",
       "    .dataframe tbody tr th:only-of-type {\n",
       "        vertical-align: middle;\n",
       "    }\n",
       "\n",
       "    .dataframe tbody tr th {\n",
       "        vertical-align: top;\n",
       "    }\n",
       "\n",
       "    .dataframe thead th {\n",
       "        text-align: right;\n",
       "    }\n",
       "</style>\n",
       "<table border=\"1\" class=\"dataframe\">\n",
       "  <thead>\n",
       "    <tr style=\"text-align: right;\">\n",
       "      <th></th>\n",
       "      <th>title</th>\n",
       "      <th>director</th>\n",
       "      <th>cast</th>\n",
       "      <th>rating</th>\n",
       "      <th>description</th>\n",
       "      <th>combined</th>\n",
       "    </tr>\n",
       "  </thead>\n",
       "  <tbody>\n",
       "    <tr>\n",
       "      <th>0</th>\n",
       "      <td>3%</td>\n",
       "      <td></td>\n",
       "      <td>João Miguel, Bianca Comparato, Michel Gomes, R...</td>\n",
       "      <td>TV-MA</td>\n",
       "      <td>In a future where the elite inhabit an island ...</td>\n",
       "      <td>João Miguel, Bianca Comparato, Michel Gomes, R...</td>\n",
       "    </tr>\n",
       "    <tr>\n",
       "      <th>1</th>\n",
       "      <td>46</td>\n",
       "      <td>Serdar Akar</td>\n",
       "      <td>Erdal Beşikçioğlu, Yasemin Allen, Melis Birkan...</td>\n",
       "      <td>TV-MA</td>\n",
       "      <td>A genetics professor experiments with a treatm...</td>\n",
       "      <td>Erdal Beşikçioğlu, Yasemin Allen, Melis Birkan...</td>\n",
       "    </tr>\n",
       "    <tr>\n",
       "      <th>2</th>\n",
       "      <td>1983</td>\n",
       "      <td></td>\n",
       "      <td>Robert Więckiewicz, Maciej Musiał, Michalina O...</td>\n",
       "      <td>TV-MA</td>\n",
       "      <td>In this dark alt-history thriller, a naïve law...</td>\n",
       "      <td>Robert Więckiewicz, Maciej Musiał, Michalina O...</td>\n",
       "    </tr>\n",
       "    <tr>\n",
       "      <th>3</th>\n",
       "      <td>1994</td>\n",
       "      <td>Diego Enrique Osorno</td>\n",
       "      <td></td>\n",
       "      <td>TV-MA</td>\n",
       "      <td>Archival video and new interviews examine Mexi...</td>\n",
       "      <td>Diego Enrique OsornoArchival video and new int...</td>\n",
       "    </tr>\n",
       "    <tr>\n",
       "      <th>4</th>\n",
       "      <td>Feb-09</td>\n",
       "      <td></td>\n",
       "      <td>Shahd El Yaseen, Shaila Sabt, Hala, Hanadi Al-...</td>\n",
       "      <td>TV-14</td>\n",
       "      <td>As a psychology professor faces Alzheimer's, h...</td>\n",
       "      <td>Shahd El Yaseen, Shaila Sabt, Hala, Hanadi Al-...</td>\n",
       "    </tr>\n",
       "  </tbody>\n",
       "</table>\n",
       "</div>"
      ],
      "text/plain": [
       "    title              director  \\\n",
       "0      3%                         \n",
       "1      46           Serdar Akar   \n",
       "2    1983                         \n",
       "3    1994  Diego Enrique Osorno   \n",
       "4  Feb-09                         \n",
       "\n",
       "                                                cast rating  \\\n",
       "0  João Miguel, Bianca Comparato, Michel Gomes, R...  TV-MA   \n",
       "1  Erdal Beşikçioğlu, Yasemin Allen, Melis Birkan...  TV-MA   \n",
       "2  Robert Więckiewicz, Maciej Musiał, Michalina O...  TV-MA   \n",
       "3                                                     TV-MA   \n",
       "4  Shahd El Yaseen, Shaila Sabt, Hala, Hanadi Al-...  TV-14   \n",
       "\n",
       "                                         description  \\\n",
       "0  In a future where the elite inhabit an island ...   \n",
       "1  A genetics professor experiments with a treatm...   \n",
       "2  In this dark alt-history thriller, a naïve law...   \n",
       "3  Archival video and new interviews examine Mexi...   \n",
       "4  As a psychology professor faces Alzheimer's, h...   \n",
       "\n",
       "                                            combined  \n",
       "0  João Miguel, Bianca Comparato, Michel Gomes, R...  \n",
       "1  Erdal Beşikçioğlu, Yasemin Allen, Melis Birkan...  \n",
       "2  Robert Więckiewicz, Maciej Musiał, Michalina O...  \n",
       "3  Diego Enrique OsornoArchival video and new int...  \n",
       "4  Shahd El Yaseen, Shaila Sabt, Hala, Hanadi Al-...  "
      ]
     },
     "execution_count": 15,
     "metadata": {},
     "output_type": "execute_result"
    }
   ],
   "source": [
    "shows.head()"
   ]
  },
  {
   "cell_type": "code",
   "execution_count": 16,
   "metadata": {
    "execution": {
     "iopub.execute_input": "2021-03-15T18:46:53.361854Z",
     "iopub.status.busy": "2021-03-15T18:46:53.361170Z",
     "iopub.status.idle": "2021-03-15T18:46:53.364514Z",
     "shell.execute_reply": "2021-03-15T18:46:53.363872Z"
    },
    "papermill": {
     "duration": 0.051712,
     "end_time": "2021-03-15T18:46:53.364659",
     "exception": false,
     "start_time": "2021-03-15T18:46:53.312947",
     "status": "completed"
    },
    "tags": []
   },
   "outputs": [],
   "source": [
    "from sklearn.feature_extraction.text import TfidfVectorizer\n",
    "tfv = TfidfVectorizer(min_df = 3,max_features = None,analyzer = 'word',token_pattern = 'r\\w{1,}', ngram_range = (1,3), stop_words = 'english')\n",
    "shows['combined'] = shows['combined'].fillna(\"\")"
   ]
  },
  {
   "cell_type": "code",
   "execution_count": 17,
   "metadata": {
    "execution": {
     "iopub.execute_input": "2021-03-15T18:46:53.447191Z",
     "iopub.status.busy": "2021-03-15T18:46:53.446449Z",
     "iopub.status.idle": "2021-03-15T18:46:53.848023Z",
     "shell.execute_reply": "2021-03-15T18:46:53.847367Z"
    },
    "papermill": {
     "duration": 0.448355,
     "end_time": "2021-03-15T18:46:53.848168",
     "exception": false,
     "start_time": "2021-03-15T18:46:53.399813",
     "status": "completed"
    },
    "tags": []
   },
   "outputs": [
    {
     "name": "stderr",
     "output_type": "stream",
     "text": [
      "/opt/conda/lib/python3.7/site-packages/sklearn/feature_extraction/text.py:391: UserWarning: Your stop_words may be inconsistent with your preprocessing. Tokenizing the stop words generated tokens ['ral', 'rd', 'rds', 'ready', 'reafter', 'reas', 'reby', 'red', 'ree', 'refore', 'rehand', 'rein', 'reover', 'rest', 'reupon', 'rever', 'rhaps', 'ribe', 'ring', 'rious', 'rly', 'rmer', 'rmerly', 'rom', 'ront', 'ross', 'rough', 'roughout', 'round', 'rs', 'rself', 'rselves', 'rst', 'rt', 'rtheless', 'rther', 'rty', 'ru', 'rwards', 'rwise', 'ry', 'ryone', 'rything', 'rywhere'] not in stop_words.\n",
      "  'stop_words.' % sorted(inconsistent))\n"
     ]
    },
    {
     "data": {
      "text/plain": [
       "title\n",
       "3%                          0\n",
       "46                          1\n",
       "1983                        2\n",
       "1994                        3\n",
       "Feb-09                      4\n",
       "                         ... \n",
       "Zindagi Gulzar Hai       2405\n",
       "Zoids Wild               2406\n",
       "Zombie Dumb              2407\n",
       "Zona Rosa                2408\n",
       "Zumbo's Just Desserts    2409\n",
       "Length: 2410, dtype: int64"
      ]
     },
     "execution_count": 17,
     "metadata": {},
     "output_type": "execute_result"
    }
   ],
   "source": [
    "tfv_matrix_shows = tfv.fit_transform(shows['combined'])\n",
    "from sklearn.metrics.pairwise import sigmoid_kernel\n",
    "sig = sigmoid_kernel(tfv_matrix_shows,tfv_matrix_shows)\n",
    "sig[0]\n",
    "indices = pd.Series(shows.index,index = shows['title']).drop_duplicates()\n",
    "indices"
   ]
  },
  {
   "cell_type": "code",
   "execution_count": 18,
   "metadata": {
    "execution": {
     "iopub.execute_input": "2021-03-15T18:46:53.936093Z",
     "iopub.status.busy": "2021-03-15T18:46:53.935240Z",
     "iopub.status.idle": "2021-03-15T18:46:53.937832Z",
     "shell.execute_reply": "2021-03-15T18:46:53.938327Z"
    },
    "papermill": {
     "duration": 0.05482,
     "end_time": "2021-03-15T18:46:53.938516",
     "exception": false,
     "start_time": "2021-03-15T18:46:53.883696",
     "status": "completed"
    },
    "tags": []
   },
   "outputs": [],
   "source": [
    "def recommend(title,sig=sig):\n",
    "    idx = indices[title]\n",
    "    sig_scores = list(enumerate(sig[idx]))\n",
    "    sig_scores = sorted(sig_scores,key = lambda x:x[1], reverse = True)\n",
    "    sig_scores = sig_scores[1:11]\n",
    "    shows_indices = [i[0] for i in sig_scores]\n",
    "    return shows['title'].iloc[shows_indices]"
   ]
  },
  {
   "cell_type": "code",
   "execution_count": 19,
   "metadata": {
    "execution": {
     "iopub.execute_input": "2021-03-15T18:46:54.020281Z",
     "iopub.status.busy": "2021-03-15T18:46:54.019194Z",
     "iopub.status.idle": "2021-03-15T18:46:54.023872Z",
     "shell.execute_reply": "2021-03-15T18:46:54.024338Z"
    },
    "papermill": {
     "duration": 0.050398,
     "end_time": "2021-03-15T18:46:54.024536",
     "exception": false,
     "start_time": "2021-03-15T18:46:53.974138",
     "status": "completed"
    },
    "tags": []
   },
   "outputs": [
    {
     "data": {
      "text/plain": [
       "706                       Genius of the Modern World\n",
       "418                 Comedians in Cars Getting Coffee\n",
       "1960               The goop lab with Gwyneth Paltrow\n",
       "1221                Melodies of Life - Born This Way\n",
       "959                                       JingleKids\n",
       "1777    Strawberry Shortcake: Berry Bitty Adventures\n",
       "2285                        VeggieTales in the House\n",
       "1640                                         Scandal\n",
       "1279                 Monty Python Best Bits (mostly)\n",
       "1282                    Monty Python's Flying Circus\n",
       "Name: title, dtype: object"
      ]
     },
     "execution_count": 19,
     "metadata": {},
     "output_type": "execute_result"
    }
   ],
   "source": [
    "recommend(\"Friends\")"
   ]
  },
  {
   "cell_type": "code",
   "execution_count": 20,
   "metadata": {
    "execution": {
     "iopub.execute_input": "2021-03-15T18:46:54.107036Z",
     "iopub.status.busy": "2021-03-15T18:46:54.105990Z",
     "iopub.status.idle": "2021-03-15T18:46:54.110540Z",
     "shell.execute_reply": "2021-03-15T18:46:54.109752Z"
    },
    "papermill": {
     "duration": 0.050122,
     "end_time": "2021-03-15T18:46:54.110703",
     "exception": false,
     "start_time": "2021-03-15T18:46:54.060581",
     "status": "completed"
    },
    "tags": []
   },
   "outputs": [
    {
     "data": {
      "text/plain": [
       "54                  Abnormal Summit\n",
       "1843    That Winter, the Wind Blows\n",
       "211                          Betaal\n",
       "1247             Million Pound Menu\n",
       "1008              Kim's Convenience\n",
       "890                       I'm Sorry\n",
       "700                Game Winning Hit\n",
       "2284        VeggieTales in the City\n",
       "1466                        Persona\n",
       "367              Chicago Typewriter\n",
       "Name: title, dtype: object"
      ]
     },
     "execution_count": 20,
     "metadata": {},
     "output_type": "execute_result"
    }
   ],
   "source": [
    "recommend(\"Crash Landing on You\")"
   ]
  },
  {
   "cell_type": "markdown",
   "metadata": {
    "papermill": {
     "duration": 0.036691,
     "end_time": "2021-03-15T18:46:54.184570",
     "exception": false,
     "start_time": "2021-03-15T18:46:54.147879",
     "status": "completed"
    },
    "tags": []
   },
   "source": [
    "**Personally , I don't feel that these recommendations are good enough to consider. So, I am doing the same method but this time using Cosine similarities with linear kernel**"
   ]
  },
  {
   "cell_type": "markdown",
   "metadata": {
    "papermill": {
     "duration": 0.036633,
     "end_time": "2021-03-15T18:46:54.258223",
     "exception": false,
     "start_time": "2021-03-15T18:46:54.221590",
     "status": "completed"
    },
    "tags": []
   },
   "source": [
    "# Movies set* "
   ]
  },
  {
   "cell_type": "code",
   "execution_count": 21,
   "metadata": {
    "execution": {
     "iopub.execute_input": "2021-03-15T18:46:54.345124Z",
     "iopub.status.busy": "2021-03-15T18:46:54.344423Z",
     "iopub.status.idle": "2021-03-15T18:46:54.349364Z",
     "shell.execute_reply": "2021-03-15T18:46:54.348867Z"
    },
    "papermill": {
     "duration": 0.05479,
     "end_time": "2021-03-15T18:46:54.349528",
     "exception": false,
     "start_time": "2021-03-15T18:46:54.294738",
     "status": "completed"
    },
    "tags": []
   },
   "outputs": [
    {
     "data": {
      "text/html": [
       "<div>\n",
       "<style scoped>\n",
       "    .dataframe tbody tr th:only-of-type {\n",
       "        vertical-align: middle;\n",
       "    }\n",
       "\n",
       "    .dataframe tbody tr th {\n",
       "        vertical-align: top;\n",
       "    }\n",
       "\n",
       "    .dataframe thead th {\n",
       "        text-align: right;\n",
       "    }\n",
       "</style>\n",
       "<table border=\"1\" class=\"dataframe\">\n",
       "  <thead>\n",
       "    <tr style=\"text-align: right;\">\n",
       "      <th></th>\n",
       "      <th>title</th>\n",
       "      <th>director</th>\n",
       "      <th>cast</th>\n",
       "      <th>rating</th>\n",
       "      <th>description</th>\n",
       "      <th>combined</th>\n",
       "    </tr>\n",
       "  </thead>\n",
       "  <tbody>\n",
       "    <tr>\n",
       "      <th>0</th>\n",
       "      <td>7:19</td>\n",
       "      <td>Jorge Michel Grau</td>\n",
       "      <td>Demián Bichir, Héctor Bonilla, Oscar Serrano, ...</td>\n",
       "      <td>TV-MA</td>\n",
       "      <td>After a devastating earthquake hits Mexico Cit...</td>\n",
       "      <td>After a devastating earthquake hits Mexico Cit...</td>\n",
       "    </tr>\n",
       "    <tr>\n",
       "      <th>1</th>\n",
       "      <td>23:59</td>\n",
       "      <td>Gilbert Chan</td>\n",
       "      <td>Tedd Chan, Stella Chung, Henley Hii, Lawrence ...</td>\n",
       "      <td>R</td>\n",
       "      <td>When an army recruit is found dead, his fellow...</td>\n",
       "      <td>When an army recruit is found dead, his fellow...</td>\n",
       "    </tr>\n",
       "    <tr>\n",
       "      <th>2</th>\n",
       "      <td>9</td>\n",
       "      <td>Shane Acker</td>\n",
       "      <td>Elijah Wood, John C. Reilly, Jennifer Connelly...</td>\n",
       "      <td>PG-13</td>\n",
       "      <td>In a postapocalyptic world, rag-doll robots hi...</td>\n",
       "      <td>In a postapocalyptic world, rag-doll robots hi...</td>\n",
       "    </tr>\n",
       "    <tr>\n",
       "      <th>3</th>\n",
       "      <td>21</td>\n",
       "      <td>Robert Luketic</td>\n",
       "      <td>Jim Sturgess, Kevin Spacey, Kate Bosworth, Aar...</td>\n",
       "      <td>PG-13</td>\n",
       "      <td>A brilliant group of students become card-coun...</td>\n",
       "      <td>A brilliant group of students become card-coun...</td>\n",
       "    </tr>\n",
       "    <tr>\n",
       "      <th>4</th>\n",
       "      <td>122</td>\n",
       "      <td>Yasir Al Yasiri</td>\n",
       "      <td>Amina Khalil, Ahmed Dawood, Tarek Lotfy, Ahmed...</td>\n",
       "      <td>TV-MA</td>\n",
       "      <td>After an awful accident, a couple admitted to ...</td>\n",
       "      <td>After an awful accident, a couple admitted to ...</td>\n",
       "    </tr>\n",
       "  </tbody>\n",
       "</table>\n",
       "</div>"
      ],
      "text/plain": [
       "   title           director  \\\n",
       "0   7:19  Jorge Michel Grau   \n",
       "1  23:59       Gilbert Chan   \n",
       "2      9        Shane Acker   \n",
       "3     21     Robert Luketic   \n",
       "4    122    Yasir Al Yasiri   \n",
       "\n",
       "                                                cast rating  \\\n",
       "0  Demián Bichir, Héctor Bonilla, Oscar Serrano, ...  TV-MA   \n",
       "1  Tedd Chan, Stella Chung, Henley Hii, Lawrence ...      R   \n",
       "2  Elijah Wood, John C. Reilly, Jennifer Connelly...  PG-13   \n",
       "3  Jim Sturgess, Kevin Spacey, Kate Bosworth, Aar...  PG-13   \n",
       "4  Amina Khalil, Ahmed Dawood, Tarek Lotfy, Ahmed...  TV-MA   \n",
       "\n",
       "                                         description  \\\n",
       "0  After a devastating earthquake hits Mexico Cit...   \n",
       "1  When an army recruit is found dead, his fellow...   \n",
       "2  In a postapocalyptic world, rag-doll robots hi...   \n",
       "3  A brilliant group of students become card-coun...   \n",
       "4  After an awful accident, a couple admitted to ...   \n",
       "\n",
       "                                            combined  \n",
       "0  After a devastating earthquake hits Mexico Cit...  \n",
       "1  When an army recruit is found dead, his fellow...  \n",
       "2  In a postapocalyptic world, rag-doll robots hi...  \n",
       "3  A brilliant group of students become card-coun...  \n",
       "4  After an awful accident, a couple admitted to ...  "
      ]
     },
     "execution_count": 21,
     "metadata": {},
     "output_type": "execute_result"
    }
   ],
   "source": [
    "movies.head(5)"
   ]
  },
  {
   "cell_type": "code",
   "execution_count": 22,
   "metadata": {
    "execution": {
     "iopub.execute_input": "2021-03-15T18:46:54.447894Z",
     "iopub.status.busy": "2021-03-15T18:46:54.442443Z",
     "iopub.status.idle": "2021-03-15T18:46:54.872595Z",
     "shell.execute_reply": "2021-03-15T18:46:54.871972Z"
    },
    "papermill": {
     "duration": 0.485728,
     "end_time": "2021-03-15T18:46:54.872758",
     "exception": false,
     "start_time": "2021-03-15T18:46:54.387030",
     "status": "completed"
    },
    "tags": []
   },
   "outputs": [
    {
     "data": {
      "text/plain": [
       "(5377, 40215)"
      ]
     },
     "execution_count": 22,
     "metadata": {},
     "output_type": "execute_result"
    }
   ],
   "source": [
    "from sklearn.feature_extraction.text import TfidfVectorizer\n",
    "\n",
    "tfidf = TfidfVectorizer(stop_words='english')\n",
    "\n",
    "\n",
    "movies['combined'] = movies['combined'].fillna('')\n",
    "tfidf_matrix = tfidf.fit_transform(movies['combined'])\n",
    "\n",
    "\n",
    "tfidf_matrix.shape"
   ]
  },
  {
   "cell_type": "code",
   "execution_count": 23,
   "metadata": {
    "execution": {
     "iopub.execute_input": "2021-03-15T18:46:54.987947Z",
     "iopub.status.busy": "2021-03-15T18:46:54.987005Z",
     "iopub.status.idle": "2021-03-15T18:46:54.992670Z",
     "shell.execute_reply": "2021-03-15T18:46:54.992019Z"
    },
    "papermill": {
     "duration": 0.08226,
     "end_time": "2021-03-15T18:46:54.992825",
     "exception": false,
     "start_time": "2021-03-15T18:46:54.910565",
     "status": "completed"
    },
    "tags": []
   },
   "outputs": [
    {
     "data": {
      "text/plain": [
       "['brauenkaryn',\n",
       " 'braugher',\n",
       " 'braun',\n",
       " 'braunjon',\n",
       " 'braunschweig',\n",
       " 'braunschweigethan',\n",
       " 'braunstein',\n",
       " 'bravado',\n",
       " 'bravani',\n",
       " 'brave']"
      ]
     },
     "execution_count": 23,
     "metadata": {},
     "output_type": "execute_result"
    }
   ],
   "source": [
    "tfidf.get_feature_names()[5000:5010]"
   ]
  },
  {
   "cell_type": "code",
   "execution_count": 24,
   "metadata": {
    "execution": {
     "iopub.execute_input": "2021-03-15T18:46:55.075142Z",
     "iopub.status.busy": "2021-03-15T18:46:55.074111Z",
     "iopub.status.idle": "2021-03-15T18:46:55.472904Z",
     "shell.execute_reply": "2021-03-15T18:46:55.472228Z"
    },
    "papermill": {
     "duration": 0.442252,
     "end_time": "2021-03-15T18:46:55.473050",
     "exception": false,
     "start_time": "2021-03-15T18:46:55.030798",
     "status": "completed"
    },
    "tags": []
   },
   "outputs": [
    {
     "data": {
      "text/plain": [
       "(5377, 5377)"
      ]
     },
     "execution_count": 24,
     "metadata": {},
     "output_type": "execute_result"
    }
   ],
   "source": [
    "from sklearn.metrics.pairwise import linear_kernel\n",
    "cosine_sim = linear_kernel(tfidf_matrix, tfidf_matrix)\n",
    "cosine_sim.shape"
   ]
  },
  {
   "cell_type": "code",
   "execution_count": 25,
   "metadata": {
    "execution": {
     "iopub.execute_input": "2021-03-15T18:46:55.556072Z",
     "iopub.status.busy": "2021-03-15T18:46:55.555370Z",
     "iopub.status.idle": "2021-03-15T18:46:55.559661Z",
     "shell.execute_reply": "2021-03-15T18:46:55.558991Z"
    },
    "papermill": {
     "duration": 0.047863,
     "end_time": "2021-03-15T18:46:55.559808",
     "exception": false,
     "start_time": "2021-03-15T18:46:55.511945",
     "status": "completed"
    },
    "tags": []
   },
   "outputs": [
    {
     "data": {
      "text/plain": [
       "array([0., 1., 0., ..., 0., 0., 0.])"
      ]
     },
     "execution_count": 25,
     "metadata": {},
     "output_type": "execute_result"
    }
   ],
   "source": [
    "cosine_sim[1]"
   ]
  },
  {
   "cell_type": "code",
   "execution_count": 26,
   "metadata": {
    "execution": {
     "iopub.execute_input": "2021-03-15T18:46:55.648483Z",
     "iopub.status.busy": "2021-03-15T18:46:55.644950Z",
     "iopub.status.idle": "2021-03-15T18:46:55.653667Z",
     "shell.execute_reply": "2021-03-15T18:46:55.652994Z"
    },
    "papermill": {
     "duration": 0.054498,
     "end_time": "2021-03-15T18:46:55.653827",
     "exception": false,
     "start_time": "2021-03-15T18:46:55.599329",
     "status": "completed"
    },
    "tags": []
   },
   "outputs": [
    {
     "data": {
      "text/plain": [
       "title\n",
       "7:19                                          0\n",
       "23:59                                         1\n",
       "9                                             2\n",
       "21                                            3\n",
       "122                                           4\n",
       "                                           ... \n",
       "Zoom                                       5372\n",
       "Zozo                                       5373\n",
       "Zubaan                                     5374\n",
       "Zulu Man in Japan                          5375\n",
       "ZZ TOP: THAT LITTLE OL' BAND FROM TEXAS    5376\n",
       "Length: 5377, dtype: int64"
      ]
     },
     "execution_count": 26,
     "metadata": {},
     "output_type": "execute_result"
    }
   ],
   "source": [
    "indices = pd.Series(movies.index, index=movies['title']).drop_duplicates()\n",
    "indices"
   ]
  },
  {
   "cell_type": "code",
   "execution_count": 27,
   "metadata": {
    "execution": {
     "iopub.execute_input": "2021-03-15T18:46:55.740668Z",
     "iopub.status.busy": "2021-03-15T18:46:55.739984Z",
     "iopub.status.idle": "2021-03-15T18:46:55.742912Z",
     "shell.execute_reply": "2021-03-15T18:46:55.742282Z"
    },
    "papermill": {
     "duration": 0.048881,
     "end_time": "2021-03-15T18:46:55.743053",
     "exception": false,
     "start_time": "2021-03-15T18:46:55.694172",
     "status": "completed"
    },
    "tags": []
   },
   "outputs": [],
   "source": [
    "def recommendations(title, cosine_sim=cosine_sim):\n",
    "    idx = indices[title]\n",
    "    sim_scores = list(enumerate(cosine_sim[idx]))\n",
    "    sim_scores = sorted(sim_scores, key=lambda x: x[1], reverse=True)\n",
    "    sim_scores = sim_scores[1:11]\n",
    "    movie_indices = [i[0] for i in sim_scores]\n",
    "    return movies['title'].iloc[movie_indices]\n"
   ]
  },
  {
   "cell_type": "code",
   "execution_count": 28,
   "metadata": {
    "execution": {
     "iopub.execute_input": "2021-03-15T18:46:55.835773Z",
     "iopub.status.busy": "2021-03-15T18:46:55.834803Z",
     "iopub.status.idle": "2021-03-15T18:46:55.840107Z",
     "shell.execute_reply": "2021-03-15T18:46:55.839606Z"
    },
    "papermill": {
     "duration": 0.057207,
     "end_time": "2021-03-15T18:46:55.840267",
     "exception": false,
     "start_time": "2021-03-15T18:46:55.783060",
     "status": "completed"
    },
    "tags": []
   },
   "outputs": [
    {
     "data": {
      "text/plain": [
       "378            An American Tail: Fievel Goes West\n",
       "2342          Keith Richards: Under the Influence\n",
       "4979                                Trainspotting\n",
       "5045                         Tyke Elephant Outlaw\n",
       "1400    Emicida: AmarElo - It’s All For Yesterday\n",
       "965        Chingo Bling: They Can't Deport Us All\n",
       "3025                           My Octopus Teacher\n",
       "1663         GEN HOSHINO STADIUM TOUR “POP VIRUS”\n",
       "3842            Seth Rogen's Hilarity for Charity\n",
       "2788                                      Maynard\n",
       "Name: title, dtype: object"
      ]
     },
     "execution_count": 28,
     "metadata": {},
     "output_type": "execute_result"
    }
   ],
   "source": [
    "recommendations('Zulu Man in Japan')"
   ]
  },
  {
   "cell_type": "code",
   "execution_count": 29,
   "metadata": {
    "execution": {
     "iopub.execute_input": "2021-03-15T18:46:55.934063Z",
     "iopub.status.busy": "2021-03-15T18:46:55.933009Z",
     "iopub.status.idle": "2021-03-15T18:46:55.937820Z",
     "shell.execute_reply": "2021-03-15T18:46:55.937176Z"
    },
    "papermill": {
     "duration": 0.057412,
     "end_time": "2021-03-15T18:46:55.937968",
     "exception": false,
     "start_time": "2021-03-15T18:46:55.880556",
     "status": "completed"
    },
    "tags": []
   },
   "outputs": [
    {
     "data": {
      "text/plain": [
       "510                                       Baazaar\n",
       "2176                             Jatts in Golmaal\n",
       "4252            The Battered Bastards of Baseball\n",
       "2302                                     Kajraare\n",
       "1435                              Evening Shadows\n",
       "421                       Ankur Arora Murder Case\n",
       "3745                                        Sanju\n",
       "2421    Krish Trish and Baltiboy: Face Your Fears\n",
       "3027                                   My Own Man\n",
       "1640                                         Game\n",
       "Name: title, dtype: object"
      ]
     },
     "execution_count": 29,
     "metadata": {},
     "output_type": "execute_result"
    }
   ],
   "source": [
    "recommendations(\"Zubaan\")"
   ]
  },
  {
   "cell_type": "code",
   "execution_count": 30,
   "metadata": {
    "execution": {
     "iopub.execute_input": "2021-03-15T18:46:56.032066Z",
     "iopub.status.busy": "2021-03-15T18:46:56.031333Z",
     "iopub.status.idle": "2021-03-15T18:46:56.035559Z",
     "shell.execute_reply": "2021-03-15T18:46:56.034902Z"
    },
    "papermill": {
     "duration": 0.057075,
     "end_time": "2021-03-15T18:46:56.035704",
     "exception": false,
     "start_time": "2021-03-15T18:46:55.978629",
     "status": "completed"
    },
    "tags": []
   },
   "outputs": [
    {
     "data": {
      "text/plain": [
       "3399                                         PK\n",
       "2666                               Lust Stories\n",
       "433                                       Anwar\n",
       "4873                            The Zoya Factor\n",
       "1844                       Haseena Maan Jaayegi\n",
       "1222                         Dharam Sankat Mein\n",
       "3378                Phir Bhi Dil Hai Hindustani\n",
       "1259    Do Paise Ki Dhoop Chaar Aane Ki Baarish\n",
       "1001                               Chup Chup Ke\n",
       "1691                          Ghulam-E-Musthafa\n",
       "Name: title, dtype: object"
      ]
     },
     "execution_count": 30,
     "metadata": {},
     "output_type": "execute_result"
    }
   ],
   "source": [
    "recommendations(\"Sanju\")"
   ]
  },
  {
   "cell_type": "markdown",
   "metadata": {
    "papermill": {
     "duration": 0.041764,
     "end_time": "2021-03-15T18:46:56.119721",
     "exception": false,
     "start_time": "2021-03-15T18:46:56.077957",
     "status": "completed"
    },
    "tags": []
   },
   "source": [
    "**My experience can vote for this recommendation model better than the first one**"
   ]
  },
  {
   "cell_type": "markdown",
   "metadata": {
    "papermill": {
     "duration": 0.04076,
     "end_time": "2021-03-15T18:46:56.201607",
     "exception": false,
     "start_time": "2021-03-15T18:46:56.160847",
     "status": "completed"
    },
    "tags": []
   },
   "source": [
    "# TV Shows set"
   ]
  },
  {
   "cell_type": "code",
   "execution_count": 31,
   "metadata": {
    "execution": {
     "iopub.execute_input": "2021-03-15T18:46:56.296843Z",
     "iopub.status.busy": "2021-03-15T18:46:56.296155Z",
     "iopub.status.idle": "2021-03-15T18:46:56.300882Z",
     "shell.execute_reply": "2021-03-15T18:46:56.299947Z"
    },
    "papermill": {
     "duration": 0.058298,
     "end_time": "2021-03-15T18:46:56.301036",
     "exception": false,
     "start_time": "2021-03-15T18:46:56.242738",
     "status": "completed"
    },
    "tags": []
   },
   "outputs": [
    {
     "data": {
      "text/html": [
       "<div>\n",
       "<style scoped>\n",
       "    .dataframe tbody tr th:only-of-type {\n",
       "        vertical-align: middle;\n",
       "    }\n",
       "\n",
       "    .dataframe tbody tr th {\n",
       "        vertical-align: top;\n",
       "    }\n",
       "\n",
       "    .dataframe thead th {\n",
       "        text-align: right;\n",
       "    }\n",
       "</style>\n",
       "<table border=\"1\" class=\"dataframe\">\n",
       "  <thead>\n",
       "    <tr style=\"text-align: right;\">\n",
       "      <th></th>\n",
       "      <th>title</th>\n",
       "      <th>director</th>\n",
       "      <th>cast</th>\n",
       "      <th>rating</th>\n",
       "      <th>description</th>\n",
       "      <th>combined</th>\n",
       "    </tr>\n",
       "  </thead>\n",
       "  <tbody>\n",
       "    <tr>\n",
       "      <th>0</th>\n",
       "      <td>3%</td>\n",
       "      <td></td>\n",
       "      <td>João Miguel, Bianca Comparato, Michel Gomes, R...</td>\n",
       "      <td>TV-MA</td>\n",
       "      <td>In a future where the elite inhabit an island ...</td>\n",
       "      <td>João Miguel, Bianca Comparato, Michel Gomes, R...</td>\n",
       "    </tr>\n",
       "    <tr>\n",
       "      <th>1</th>\n",
       "      <td>46</td>\n",
       "      <td>Serdar Akar</td>\n",
       "      <td>Erdal Beşikçioğlu, Yasemin Allen, Melis Birkan...</td>\n",
       "      <td>TV-MA</td>\n",
       "      <td>A genetics professor experiments with a treatm...</td>\n",
       "      <td>Erdal Beşikçioğlu, Yasemin Allen, Melis Birkan...</td>\n",
       "    </tr>\n",
       "    <tr>\n",
       "      <th>2</th>\n",
       "      <td>1983</td>\n",
       "      <td></td>\n",
       "      <td>Robert Więckiewicz, Maciej Musiał, Michalina O...</td>\n",
       "      <td>TV-MA</td>\n",
       "      <td>In this dark alt-history thriller, a naïve law...</td>\n",
       "      <td>Robert Więckiewicz, Maciej Musiał, Michalina O...</td>\n",
       "    </tr>\n",
       "    <tr>\n",
       "      <th>3</th>\n",
       "      <td>1994</td>\n",
       "      <td>Diego Enrique Osorno</td>\n",
       "      <td></td>\n",
       "      <td>TV-MA</td>\n",
       "      <td>Archival video and new interviews examine Mexi...</td>\n",
       "      <td>Diego Enrique OsornoArchival video and new int...</td>\n",
       "    </tr>\n",
       "    <tr>\n",
       "      <th>4</th>\n",
       "      <td>Feb-09</td>\n",
       "      <td></td>\n",
       "      <td>Shahd El Yaseen, Shaila Sabt, Hala, Hanadi Al-...</td>\n",
       "      <td>TV-14</td>\n",
       "      <td>As a psychology professor faces Alzheimer's, h...</td>\n",
       "      <td>Shahd El Yaseen, Shaila Sabt, Hala, Hanadi Al-...</td>\n",
       "    </tr>\n",
       "  </tbody>\n",
       "</table>\n",
       "</div>"
      ],
      "text/plain": [
       "    title              director  \\\n",
       "0      3%                         \n",
       "1      46           Serdar Akar   \n",
       "2    1983                         \n",
       "3    1994  Diego Enrique Osorno   \n",
       "4  Feb-09                         \n",
       "\n",
       "                                                cast rating  \\\n",
       "0  João Miguel, Bianca Comparato, Michel Gomes, R...  TV-MA   \n",
       "1  Erdal Beşikçioğlu, Yasemin Allen, Melis Birkan...  TV-MA   \n",
       "2  Robert Więckiewicz, Maciej Musiał, Michalina O...  TV-MA   \n",
       "3                                                     TV-MA   \n",
       "4  Shahd El Yaseen, Shaila Sabt, Hala, Hanadi Al-...  TV-14   \n",
       "\n",
       "                                         description  \\\n",
       "0  In a future where the elite inhabit an island ...   \n",
       "1  A genetics professor experiments with a treatm...   \n",
       "2  In this dark alt-history thriller, a naïve law...   \n",
       "3  Archival video and new interviews examine Mexi...   \n",
       "4  As a psychology professor faces Alzheimer's, h...   \n",
       "\n",
       "                                            combined  \n",
       "0  João Miguel, Bianca Comparato, Michel Gomes, R...  \n",
       "1  Erdal Beşikçioğlu, Yasemin Allen, Melis Birkan...  \n",
       "2  Robert Więckiewicz, Maciej Musiał, Michalina O...  \n",
       "3  Diego Enrique OsornoArchival video and new int...  \n",
       "4  Shahd El Yaseen, Shaila Sabt, Hala, Hanadi Al-...  "
      ]
     },
     "execution_count": 31,
     "metadata": {},
     "output_type": "execute_result"
    }
   ],
   "source": [
    "shows.head(5)"
   ]
  },
  {
   "cell_type": "code",
   "execution_count": 32,
   "metadata": {
    "execution": {
     "iopub.execute_input": "2021-03-15T18:46:56.409600Z",
     "iopub.status.busy": "2021-03-15T18:46:56.404311Z",
     "iopub.status.idle": "2021-03-15T18:46:56.605608Z",
     "shell.execute_reply": "2021-03-15T18:46:56.604769Z"
    },
    "papermill": {
     "duration": 0.262706,
     "end_time": "2021-03-15T18:46:56.605773",
     "exception": false,
     "start_time": "2021-03-15T18:46:56.343067",
     "status": "completed"
    },
    "tags": []
   },
   "outputs": [
    {
     "data": {
      "text/plain": [
       "(2410, 23998)"
      ]
     },
     "execution_count": 32,
     "metadata": {},
     "output_type": "execute_result"
    }
   ],
   "source": [
    "from sklearn.feature_extraction.text import TfidfVectorizer\n",
    "\n",
    "tfidf = TfidfVectorizer(stop_words='english')\n",
    "\n",
    "\n",
    "shows['combined'] = shows['combined'].fillna('')\n",
    "tfidf_matrix = tfidf.fit_transform(shows['combined'])\n",
    "\n",
    "\n",
    "tfidf_matrix.shape"
   ]
  },
  {
   "cell_type": "code",
   "execution_count": 33,
   "metadata": {
    "execution": {
     "iopub.execute_input": "2021-03-15T18:46:56.713136Z",
     "iopub.status.busy": "2021-03-15T18:46:56.707372Z",
     "iopub.status.idle": "2021-03-15T18:46:56.719672Z",
     "shell.execute_reply": "2021-03-15T18:46:56.719064Z"
    },
    "papermill": {
     "duration": 0.071235,
     "end_time": "2021-03-15T18:46:56.719841",
     "exception": false,
     "start_time": "2021-03-15T18:46:56.648606",
     "status": "completed"
    },
    "tags": []
   },
   "outputs": [
    {
     "data": {
      "text/plain": [
       "['damage',\n",
       " 'damata',\n",
       " 'damayanti',\n",
       " 'damgacıafter',\n",
       " 'damian',\n",
       " 'damidotafter',\n",
       " 'damien',\n",
       " 'damijo',\n",
       " 'damilola',\n",
       " 'damián']"
      ]
     },
     "execution_count": 33,
     "metadata": {},
     "output_type": "execute_result"
    }
   ],
   "source": [
    "tfidf.get_feature_names()[5000:5010]"
   ]
  },
  {
   "cell_type": "code",
   "execution_count": 34,
   "metadata": {
    "execution": {
     "iopub.execute_input": "2021-03-15T18:46:56.811296Z",
     "iopub.status.busy": "2021-03-15T18:46:56.810564Z",
     "iopub.status.idle": "2021-03-15T18:46:56.900310Z",
     "shell.execute_reply": "2021-03-15T18:46:56.899713Z"
    },
    "papermill": {
     "duration": 0.137762,
     "end_time": "2021-03-15T18:46:56.900453",
     "exception": false,
     "start_time": "2021-03-15T18:46:56.762691",
     "status": "completed"
    },
    "tags": []
   },
   "outputs": [
    {
     "data": {
      "text/plain": [
       "(2410, 2410)"
      ]
     },
     "execution_count": 34,
     "metadata": {},
     "output_type": "execute_result"
    }
   ],
   "source": [
    "from sklearn.metrics.pairwise import linear_kernel\n",
    "cosine_sim = linear_kernel(tfidf_matrix, tfidf_matrix)\n",
    "cosine_sim.shape"
   ]
  },
  {
   "cell_type": "code",
   "execution_count": 35,
   "metadata": {
    "execution": {
     "iopub.execute_input": "2021-03-15T18:46:56.993905Z",
     "iopub.status.busy": "2021-03-15T18:46:56.992982Z",
     "iopub.status.idle": "2021-03-15T18:46:56.998075Z",
     "shell.execute_reply": "2021-03-15T18:46:56.997431Z"
    },
    "papermill": {
     "duration": 0.053613,
     "end_time": "2021-03-15T18:46:56.998224",
     "exception": false,
     "start_time": "2021-03-15T18:46:56.944611",
     "status": "completed"
    },
    "tags": []
   },
   "outputs": [
    {
     "data": {
      "text/plain": [
       "array([0., 1., 0., ..., 0., 0., 0.])"
      ]
     },
     "execution_count": 35,
     "metadata": {},
     "output_type": "execute_result"
    }
   ],
   "source": [
    "cosine_sim[1]"
   ]
  },
  {
   "cell_type": "code",
   "execution_count": 36,
   "metadata": {
    "execution": {
     "iopub.execute_input": "2021-03-15T18:46:57.095556Z",
     "iopub.status.busy": "2021-03-15T18:46:57.094838Z",
     "iopub.status.idle": "2021-03-15T18:46:57.099143Z",
     "shell.execute_reply": "2021-03-15T18:46:57.098530Z"
    },
    "papermill": {
     "duration": 0.056888,
     "end_time": "2021-03-15T18:46:57.099283",
     "exception": false,
     "start_time": "2021-03-15T18:46:57.042395",
     "status": "completed"
    },
    "tags": []
   },
   "outputs": [
    {
     "data": {
      "text/plain": [
       "title\n",
       "3%                          0\n",
       "46                          1\n",
       "1983                        2\n",
       "1994                        3\n",
       "Feb-09                      4\n",
       "                         ... \n",
       "Zindagi Gulzar Hai       2405\n",
       "Zoids Wild               2406\n",
       "Zombie Dumb              2407\n",
       "Zona Rosa                2408\n",
       "Zumbo's Just Desserts    2409\n",
       "Length: 2410, dtype: int64"
      ]
     },
     "execution_count": 36,
     "metadata": {},
     "output_type": "execute_result"
    }
   ],
   "source": [
    "indices = pd.Series(shows.index, index=shows['title']).drop_duplicates()\n",
    "indices"
   ]
  },
  {
   "cell_type": "code",
   "execution_count": 37,
   "metadata": {
    "execution": {
     "iopub.execute_input": "2021-03-15T18:46:57.195039Z",
     "iopub.status.busy": "2021-03-15T18:46:57.194297Z",
     "iopub.status.idle": "2021-03-15T18:46:57.197298Z",
     "shell.execute_reply": "2021-03-15T18:46:57.197783Z"
    },
    "papermill": {
     "duration": 0.054409,
     "end_time": "2021-03-15T18:46:57.197964",
     "exception": false,
     "start_time": "2021-03-15T18:46:57.143555",
     "status": "completed"
    },
    "tags": []
   },
   "outputs": [],
   "source": [
    "def recommendations(title, cosine_sim=cosine_sim):\n",
    "    idx = indices[title]\n",
    "    sim_scores = list(enumerate(cosine_sim[idx]))\n",
    "    sim_scores = sorted(sim_scores, key=lambda x: x[1], reverse=True)\n",
    "    sim_scores = sim_scores[1:11]\n",
    "    shows_indices = [i[0] for i in sim_scores]\n",
    "    return shows['title'].iloc[shows_indices]"
   ]
  },
  {
   "cell_type": "code",
   "execution_count": 38,
   "metadata": {
    "execution": {
     "iopub.execute_input": "2021-03-15T18:46:57.296759Z",
     "iopub.status.busy": "2021-03-15T18:46:57.295727Z",
     "iopub.status.idle": "2021-03-15T18:46:57.300627Z",
     "shell.execute_reply": "2021-03-15T18:46:57.300044Z"
    },
    "papermill": {
     "duration": 0.058225,
     "end_time": "2021-03-15T18:46:57.300778",
     "exception": false,
     "start_time": "2021-03-15T18:46:57.242553",
     "status": "completed"
    },
    "tags": []
   },
   "outputs": [
    {
     "data": {
      "text/plain": [
       "598                  Episodes\n",
       "1182          Man with a Plan\n",
       "1092               Life Story\n",
       "260           BoJack Horseman\n",
       "447            Criminal Minds\n",
       "959                JingleKids\n",
       "752               Gossip Girl\n",
       "248             Blood of Zeus\n",
       "524     Dinotrux Supercharged\n",
       "516                 Diagnosis\n",
       "Name: title, dtype: object"
      ]
     },
     "execution_count": 38,
     "metadata": {},
     "output_type": "execute_result"
    }
   ],
   "source": [
    "recommendations(\"Friends\")"
   ]
  },
  {
   "cell_type": "code",
   "execution_count": 39,
   "metadata": {
    "execution": {
     "iopub.execute_input": "2021-03-15T18:46:57.401165Z",
     "iopub.status.busy": "2021-03-15T18:46:57.400145Z",
     "iopub.status.idle": "2021-03-15T18:46:57.404780Z",
     "shell.execute_reply": "2021-03-15T18:46:57.405292Z"
    },
    "papermill": {
     "duration": 0.060097,
     "end_time": "2021-03-15T18:46:57.405485",
     "exception": false,
     "start_time": "2021-03-15T18:46:57.345388",
     "status": "completed"
    },
    "tags": []
   },
   "outputs": [
    {
     "data": {
      "text/plain": [
       "277                 Boys Over Flowers\n",
       "119                   Another Miss Oh\n",
       "911                        Inheritors\n",
       "940          It's Okay to Not Be Okay\n",
       "2007        The King: Eternal Monarch\n",
       "2313                     Was It Love?\n",
       "862                 Hospital Playlist\n",
       "198     Because This Is My First Life\n",
       "1272                          MONKART\n",
       "40                A Love So Beautiful\n",
       "Name: title, dtype: object"
      ]
     },
     "execution_count": 39,
     "metadata": {},
     "output_type": "execute_result"
    }
   ],
   "source": [
    "recommendations(\"Crash Landing on You\")"
   ]
  },
  {
   "cell_type": "code",
   "execution_count": 40,
   "metadata": {
    "execution": {
     "iopub.execute_input": "2021-03-15T18:46:57.508086Z",
     "iopub.status.busy": "2021-03-15T18:46:57.507388Z",
     "iopub.status.idle": "2021-03-15T18:46:57.512061Z",
     "shell.execute_reply": "2021-03-15T18:46:57.511402Z"
    },
    "papermill": {
     "duration": 0.058657,
     "end_time": "2021-03-15T18:46:57.512248",
     "exception": false,
     "start_time": "2021-03-15T18:46:57.453591",
     "status": "completed"
    },
    "tags": []
   },
   "outputs": [
    {
     "data": {
      "text/plain": [
       "435     Crash Landing on You\n",
       "2313            Was It Love?\n",
       "2030         The Lies Within\n",
       "1649           Secret Affair\n",
       "911               Inheritors\n",
       "933                     Iris\n",
       "862        Hospital Playlist\n",
       "1614                  Run On\n",
       "164      Bad Guys: Vile City\n",
       "878                    Hyena\n",
       "Name: title, dtype: object"
      ]
     },
     "execution_count": 40,
     "metadata": {},
     "output_type": "execute_result"
    }
   ],
   "source": [
    "recommendations(\"It's Okay to Not Be Okay\")"
   ]
  },
  {
   "cell_type": "markdown",
   "metadata": {
    "papermill": {
     "duration": 0.045882,
     "end_time": "2021-03-15T18:46:57.604530",
     "exception": false,
     "start_time": "2021-03-15T18:46:57.558648",
     "status": "completed"
    },
    "tags": []
   },
   "source": [
    "**My Kdrama addicted brain is absolutely in favour of these recommendations more than the first one**"
   ]
  },
  {
   "cell_type": "markdown",
   "metadata": {
    "papermill": {
     "duration": 0.045769,
     "end_time": "2021-03-15T18:46:57.696515",
     "exception": false,
     "start_time": "2021-03-15T18:46:57.650746",
     "status": "completed"
    },
    "tags": []
   },
   "source": [
    "**# So, overall I would say that the 2nd one is better. I would also try to make this better in future.** Thank you for viewing this notebook😊😊"
   ]
  },
  {
   "cell_type": "code",
   "execution_count": null,
   "metadata": {
    "papermill": {
     "duration": 0.045705,
     "end_time": "2021-03-15T18:46:57.788158",
     "exception": false,
     "start_time": "2021-03-15T18:46:57.742453",
     "status": "completed"
    },
    "tags": []
   },
   "outputs": [],
   "source": []
  }
 ],
 "metadata": {
  "kernelspec": {
   "display_name": "Python 3",
   "language": "python",
   "name": "python3"
  },
  "language_info": {
   "codemirror_mode": {
    "name": "ipython",
    "version": 3
   },
   "file_extension": ".py",
   "mimetype": "text/x-python",
   "name": "python",
   "nbconvert_exporter": "python",
   "pygments_lexer": "ipython3",
   "version": "3.7.9"
  },
  "papermill": {
   "default_parameters": {},
   "duration": 16.125261,
   "end_time": "2021-03-15T18:46:58.545009",
   "environment_variables": {},
   "exception": null,
   "input_path": "__notebook__.ipynb",
   "output_path": "__notebook__.ipynb",
   "parameters": {},
   "start_time": "2021-03-15T18:46:42.419748",
   "version": "2.2.2"
  }
 },
 "nbformat": 4,
 "nbformat_minor": 4
}
